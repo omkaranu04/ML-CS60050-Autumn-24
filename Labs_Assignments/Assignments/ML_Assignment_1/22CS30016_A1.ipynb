{
  "cells": [
    {
      "cell_type": "markdown",
      "metadata": {
        "id": "emjAQ_34SozP",
        "tags": []
      },
      "source": [
        "# Programming Assignment 1"
      ]
    },
    {
      "cell_type": "markdown",
      "metadata": {
        "id": "tKkKCHwsSozQ"
      },
      "source": [
        "In this programming assignment, you will implement a linear regression model and a logistic regression model.\n",
        "\n",
        "In Part 1, you have to implement a linear regression model to predict the price of a house based on various input features.\n",
        "\n",
        "In Part 2, you have to implement a logistic regression model to predict the species of a grain using various morphological features.\n",
        "\n",
        "The assignment zip file (ML_Assignment_1.zip) contains 4 datasets which will be used in this assignment.\n",
        "\n",
        "You have to write your code in this jupyter notebook and submit the solved jupyter notebook with the file name \\<Roll_No\\>_A1.ipynb for evaluation. You have to enter your code only in those cells which are marked as ```## CODE REQUIRED ##```, and you have to write your code only between ```### START CODE HERE ###``` and ```### END CODE HERE ###``` comments."
      ]
    },
    {
      "cell_type": "markdown",
      "metadata": {
        "id": "jHPf8pHpSozR"
      },
      "source": [
        "## Part 1: Linear Regression\n",
        "\n",
        "### Problem Statement  \n",
        "A real estate company is building a machine learning model to determine the price of a house. The model will take various information regarding a house as input features and predict the price per unit area. They decided to use the linear regression as the machine learning model. Your task is to help the company to build the model.\n",
        "Given various features of a house, you will create a linear regression model to predict the price of the house.\n",
        "\n",
        "### Data Description\n",
        "\n",
        "**For Even Roll Number Students:**\n",
        "\n",
        "Dataset Filename: Taiwan_House.csv\n",
        "\n",
        "Attributes Information:\n",
        "1. Transaction date\n",
        "2. House age\n",
        "3. Distance to the nearest MRT station\n",
        "4. Number of convenience stores\n",
        "5. Latitude\n",
        "6. Longitude\n",
        "\n",
        "Target variable: house price of unit area\n",
        "\n",
        "**For Odd Roll Number Students:**\n",
        "\n",
        "Dataset Filename: Boston_House.csv\n",
        "\n",
        "Attributes Information:\n",
        "1. CRIM: per capita crime rate by town\n",
        "2. ZN: proportion of residential land zoned for lots over 25,000 sq.ft.\n",
        "3. INDUS: proportion of non-­retail business acres per town\n",
        "4. CHAS: Charles River dummy variable (= 1 if tract bounds river; 0 otherwise)\n",
        "5. NOX: nitric oxides concentration (parts per 10 million)\n",
        "6. RM: average number of rooms per dwelling\n",
        "7. AGE: proportion of owner­occupied units built prior to 1940\n",
        "8. DIS: weighted distances to five Boston employment centres\n",
        "9. RAD: index of accessibility to radial highways\n",
        "10. TAX: full-­value property-­tax rate per $10,000\n",
        "\n",
        "11. PTRATIO: pupil-­teacher ratio by town\n",
        "12. B: 1000(Bk ­- 0.63)^2 where Bk is the proportion of blacks by town\n",
        "13. LSTAT: % lower status of the population\n",
        "\n",
        "Target Variable: MEDV: Median value of owner-­occupied homes in $1000's\n",
        "\n",
        "\n",
        "These are the following steps or functions that you have to complete to create and train the linear regression model:\n",
        "1. Reading the data\n",
        "2. Computing the loss function\n",
        "3. Computing the gradient of the loss\n",
        "4. Training the model using Batch Gradient Descent\n"
      ]
    },
    {
      "cell_type": "code",
      "execution_count": 5,
      "metadata": {
        "id": "rJDNL8y8SozR",
        "tags": []
      },
      "outputs": [],
      "source": [
        "import numpy as np\n",
        "import pandas as pd\n",
        "import matplotlib.pyplot as plt\n",
        "import copy\n",
        "import math\n",
        "import random"
      ]
    },
    {
      "cell_type": "markdown",
      "metadata": {
        "id": "S5ExYIXiSozS"
      },
      "source": [
        "### 1.1. Reading the data"
      ]
    },
    {
      "cell_type": "markdown",
      "metadata": {
        "id": "FgnxuEDkSozS"
      },
      "source": [
        "In the following function ```load_data```, you have to read the data from the file and store the data into a pandas dataframe. Then you have to create two numpy arrays $X$ and $y$ from the dataframe:\n",
        "\n",
        "+ $X$: Input data of the shape (number of samples, number of input features)\n",
        "+ $y$: Target variable of the shape (number of samples,)\n"
      ]
    },
    {
      "cell_type": "code",
      "execution_count": 6,
      "metadata": {
        "id": "DEal5SFmSozS",
        "tags": []
      },
      "outputs": [
        {
          "name": "stdout",
          "output_type": "stream",
          "text": [
            "Shape of X:  (414, 6) Shape of y:  (414,)\n"
          ]
        }
      ],
      "source": [
        "## CODE REQUIRED ##\n",
        "\n",
        "def load_data(filepath):\n",
        "    \"\"\"\n",
        "    This function loads the data into a pandas dataframe and coverts it into X and y numpy arrays\n",
        "\n",
        "    Args:\n",
        "        filepath: File path as a string\n",
        "    Returns:\n",
        "        X: Input data of the shape (# of samples, # of input features)\n",
        "        y: Target variable of the shape (# of sample,)\n",
        "    \"\"\"\n",
        "\n",
        "    ### START CODE HERE ###\n",
        "    df = pd.read_csv(filepath)\n",
        "    X = df.iloc[:, :-1].values\n",
        "    y = df.iloc[:, -1].values\n",
        "    ### END CODE HERE ###\n",
        "\n",
        "    return X,y\n",
        "\n",
        "filepath = None\n",
        "### START CODE HERE ###\n",
        "## set the file path\n",
        "filepath = \"Taiwan_House.csv\"\n",
        "### END CODE HERE ###\n",
        "X, y = load_data(filepath)\n",
        "\n",
        "print(\"Shape of X: \",X.shape, \"Shape of y: \",y.shape)"
      ]
    },
    {
      "cell_type": "markdown",
      "metadata": {
        "id": "se3Qrch5PoIO"
      },
      "source": [
        "We will not use all the features from ```X```.\n",
        "\n",
        "**For Even Roll Number Students:**\n",
        "Set the last two digits of your roll number as the random seed and pick a number ``r`` between 3 and 6 (both inclusive) randomly. Use the first ```r``` features of the numpy array ```X```.\n",
        "\n",
        "**For Odd Roll Number Students:**\n",
        "Set the last two digits of your roll number as the random seed and pick a number ``r`` between 9 and 13 (both inclusive) randomly. Use the first ```r``` features of the numpy array ```X```.\n"
      ]
    },
    {
      "cell_type": "code",
      "execution_count": 7,
      "metadata": {
        "id": "mnRd0p8LtRJ5"
      },
      "outputs": [
        {
          "name": "stdout",
          "output_type": "stream",
          "text": [
            "Shape of X:  (414, 4) Shape of y:  (414,)\n"
          ]
        }
      ],
      "source": [
        "## CODE REQUIRED ##\n",
        "\n",
        "def random_feature_selection(X):\n",
        "    \"\"\"\n",
        "    For Even Roll Number Students: Set the last two digits of your roll number as the random seed and pick a number r\n",
        "    between 3 and 6 randomly. Use the first ```r``` features of the numpy array X.\n",
        "    For Odd Roll Number Students: Set the last two digits of your roll number as the random seed and pick a number r\n",
        "    between 9 and 13 randomly. Use the first ```r``` features of the numpy array X.\n",
        "    Args:\n",
        "        X: Input data of the shape (# of samples, # of input features)\n",
        "    Returns:\n",
        "        X_new: New input data of the shape (# of samples, r) containg only the first r features from X\n",
        "    \"\"\"\n",
        "\n",
        "    X_new = None\n",
        "\n",
        "    ### START CODE HERE ###\n",
        "    np.random.seed(16)\n",
        "    r = np.random.randint(3, 7)\n",
        "    X_new = X[:, :r]\n",
        "    ### END CODE HERE ###\n",
        "\n",
        "    return X_new\n",
        "\n",
        "X = random_feature_selection(X)\n",
        "print(\"Shape of X: \",X.shape, \"Shape of y: \",y.shape)"
      ]
    },
    {
      "cell_type": "markdown",
      "metadata": {
        "id": "4FAc8UixtqLS"
      },
      "source": [
        "We need to pre-process the data. We are using min-max scaler to scale the input data ($X$).\n",
        "\n",
        "After that, we split the data (```X``` and ```y```) into a training dataset (```X_train``` and ```y_train```) and test dataset (```X_test``` and ```y_test```)."
      ]
    },
    {
      "cell_type": "code",
      "execution_count": 8,
      "metadata": {
        "id": "LLmD1I3-SozT",
        "tags": []
      },
      "outputs": [
        {
          "name": "stdout",
          "output_type": "stream",
          "text": [
            "Shape of X_train:  (310, 4) Shape of y_train:  (310,)\n",
            "Shape of X_test:  (104, 4) Shape of y_test:  (104,)\n"
          ]
        }
      ],
      "source": [
        "## Data scaling and train-test split\n",
        "\n",
        "def train_test_split(X, y, test_size=0.25, random_state=None):\n",
        "    if random_state is not None:\n",
        "        np.random.seed(random_state)\n",
        "    indices = np.arange(X.shape[0])\n",
        "    np.random.shuffle(indices)\n",
        "\n",
        "    split_index = int(X.shape[0] * (1 - test_size))\n",
        "\n",
        "    train_indices = indices[:split_index]\n",
        "    test_indices = indices[split_index:]\n",
        "\n",
        "    X_train = X[train_indices]\n",
        "    X_test = X[test_indices]\n",
        "    y_train = y[train_indices]\n",
        "    y_test = y[test_indices]\n",
        "\n",
        "    return X_train, X_test, y_train, y_test\n",
        "\n",
        "def min_max_scaler(X, feature_range=(0, 1)):\n",
        "    X_min = np.min(X, axis=0)\n",
        "    X_max = np.max(X, axis=0)\n",
        "\n",
        "    X_scaled = (X-X_min)/(X_max-X_min)\n",
        "\n",
        "    return X_scaled\n",
        "\n",
        "\n",
        "X = min_max_scaler(X)\n",
        "X_train, X_test, y_train, y_test = train_test_split(X, y, test_size=0.25, random_state=42)\n",
        "print(\"Shape of X_train: \",X_train.shape, \"Shape of y_train: \",y_train.shape)\n",
        "print(\"Shape of X_test: \",X_test.shape, \"Shape of y_test: \",y_test.shape)"
      ]
    },
    {
      "cell_type": "markdown",
      "metadata": {
        "id": "xrFEUV2-SozU"
      },
      "source": [
        "### 1.2. Computing the Loss Function"
      ]
    },
    {
      "cell_type": "markdown",
      "metadata": {
        "id": "I1BC0TPCSozU"
      },
      "source": [
        "In linear regression, the model parameters are:\n",
        "\n",
        "+ $w$: Parameters of the linear regression model (excluding the bias) of the shape (1, number of features)\n",
        "\n",
        "+ $b$: Bias parameter (scalar) of the linear regression model\n",
        "\n",
        "Both $w$ and $b$ are numpy arrays.\n",
        "\n",
        "Given the model parameters $w$ and $b$, the prediction for an input sample $X^i$ is:\n",
        "$$h_{w,b}(X^i) = w \\cdot X^i + b$$\n",
        "where $X^i$ is the $i^{th}$ training sample with shape (number of features,1)\n",
        "\n",
        "For linear regression, you have to implement and compute Mean Squarred Error loss fucntion:\n",
        "$$ L_{w,b}(X) = \\sum_{i=1}^{m}(y^i - h_{w,b}(X^i))^2 $$\n",
        "where $y^i$ is the true target value for the $i^{th}$ sample and $h_{w,b}(X^i)$ is the predicted value for the $i^{th}$ sample using the parameters $w$ and $b$.\n",
        "\n",
        "$w$ is the list of parameters excluding the bias and $b$ is the bias term."
      ]
    },
    {
      "cell_type": "code",
      "execution_count": 9,
      "metadata": {
        "id": "t6GqZMlYSozV",
        "tags": []
      },
      "outputs": [],
      "source": [
        "## CODE REQUIRED ##\n",
        "\n",
        "def loss_function(X, y, w, b):\n",
        "    \"\"\"\n",
        "    Computes the cost function for linear regression.\n",
        "\n",
        "    Args:\n",
        "        X: Input data of the shape (# of training samples, # of input features)\n",
        "        y: Target variable of the shape (# of training sample,)\n",
        "        w: Parameters of the linear regression model (excluding the bias) of the shape (1, number of features)\n",
        "        b: Bias parameter (scalar) of the linear regression model\n",
        "\n",
        "    Returns\n",
        "        loss: The loss function value of using w and b as the parameters to fit the data points in X and y\n",
        "    \"\"\"\n",
        "    # number of training examples\n",
        "    m = X.shape[0]\n",
        "\n",
        "    ### START CODE HERE ###\n",
        "    hwb = np.dot(X, w.T) + b\n",
        "    loss = np.sum((y.reshape(-1, 1) - hwb)**2)\n",
        "    ### END CODE HERE ###\n",
        "\n",
        "    return loss"
      ]
    },
    {
      "cell_type": "markdown",
      "metadata": {
        "id": "l0h7jhxGSozV"
      },
      "source": [
        "### 1.3. Comptuing the Gradient of the Loss\n",
        "\n",
        "In this following function ```compute_gradient```, you have to compute the gradients $\\frac{\\partial L}{\\partial w}$ and $\\frac{\\partial L}{\\partial b}$ of the loss $L$ w.r.t. $w$ and $b$. More specifically, you have to iterate over every training example and compute the gradients of the loss for that training example. Finally, aggregate the gradient values for all the training examples and take the average. The gradients can be computed as:\n",
        "$$\\frac{\\partial L}{\\partial w} = \\frac{1}{m} \\sum_{i=1}^m (h_{w,b}(X^i)-y^i)X^i$$\n",
        "\n",
        "$$\\frac{\\partial L}{\\partial b} = \\frac{1}{m} \\sum_{i=1}^{m} (h_{w,b}(X^i)-y^i)$$\n"
      ]
    },
    {
      "cell_type": "code",
      "execution_count": 10,
      "metadata": {
        "id": "do-IiCTZSozV",
        "tags": []
      },
      "outputs": [],
      "source": [
        "## CODE REQUIRED ##\n",
        "\n",
        "def compute_gradient(X, y, w, b):\n",
        "    \"\"\"\n",
        "    Computes the gradient values\n",
        "    Args:\n",
        "       X: Input data of the shape (# of training samples, # of input features)\n",
        "       y: Target variable of the shape (# of training sample,)\n",
        "       w: Parameters of the linear regression model (excluding the bias) of the shape (1, number of features)\n",
        "       b: Bias parameter of the linear regression model of the shape (1,1) or a scaler\n",
        "    Returns:\n",
        "       dL_dw : The gradient of the cost w.r.t. the parameters w with shape same as w\n",
        "       dL_db : The gradient of the cost w.r.t. the parameter b with shape same as b\n",
        "    \"\"\"\n",
        "\n",
        "   # Number of training examples\n",
        "    m = X.shape[0]\n",
        "\n",
        "    dL_dw = None\n",
        "    dL_db = None\n",
        "\n",
        "    ### START CODE HERE ###\n",
        "    hwb = np.dot(X, w.T) + b\n",
        "    diff = hwb - y.reshape(-1, 1)\n",
        "    dL_dw = np.dot(diff.T, X)\n",
        "    dL_db = np.sum(diff)\n",
        "    dL_dw /= m\n",
        "    dL_db /= m\n",
        "    \n",
        "    ### END CODE HERE ###\n",
        "    return dL_dw, dL_db"
      ]
    },
    {
      "cell_type": "markdown",
      "metadata": {
        "id": "uYL1jWaZSozV"
      },
      "source": [
        "### 1.4. Training the Model using Batch Gradient Descent"
      ]
    },
    {
      "cell_type": "markdown",
      "metadata": {
        "id": "2vwyRzWqSozV"
      },
      "source": [
        "Finally, you have to implement the batch gradient descent algorithm to train and learn the parameters of the linear regression model. You have to use ```loss_function``` and ```compute_gradient``` functions that you have implemented earlier in this assignment.\n",
        "\n",
        "In this ```batch_gradient_descent``` function, you have to compute the gradient for the training samples and update the parameters $w$ and $b$ in every iteration:\n",
        "\n",
        "+ $w \\leftarrow w - \\alpha \\frac{\\partial L}{\\partial w}$\n",
        "\n",
        "+ $b \\leftarrow b - \\alpha \\frac{\\partial L}{\\partial b}$\n",
        "\n",
        "Additionally, you have compute the loss function values in every iteration and store it in the list variable ```loss_hist``` and print the loss value after every 100 iterations during the training process."
      ]
    },
    {
      "cell_type": "code",
      "execution_count": 11,
      "metadata": {
        "id": "UHKldb3hSozV",
        "tags": []
      },
      "outputs": [],
      "source": [
        "## CODE REQUIRED ##\n",
        "\n",
        "def batch_gradient_descent(X, y, w_initial, b_initial, alpha, num_iters):\n",
        "    \"\"\"\n",
        "    Batch gradient descent to learn the parameters (w and b) of the linear regression model and to print loss values\n",
        "    every 100 iterations\n",
        "\n",
        "    Args:\n",
        "        X: Input data of the shape (# of training samples, # of input features)\n",
        "        y: Target variable of the shape (# of training sample,)\n",
        "        w_initial: Initial parameters of the linear regression model (excluding the bias) of the shape (1, number of features)\n",
        "        b_initial: Initial bias parameter (scalar) of the linear regression model\n",
        "        alpha: Learning rate\n",
        "        num_iters: number of iterations\n",
        "    Returns\n",
        "        w: Updated values of parameters of the model after training\n",
        "        b: Updated bias of the model after training\n",
        "        loss_hist: List of loss values for every iteration\n",
        "    \"\"\"\n",
        "\n",
        "    # number of training examples\n",
        "    m = X.shape[0]\n",
        "\n",
        "    # to store loss values for every iteation as a list and print loss value after every 100 iterations\n",
        "    loss_hist = []\n",
        "\n",
        "    # Initialize parameters\n",
        "    w = copy.deepcopy(w_initial) ## deepcopy is used so that the updates do not change the initial variable values\n",
        "    b = b_initial\n",
        "\n",
        "    ### START CODE HERE ###\n",
        "    for i in range(num_iters):\n",
        "      dL_dw, dL_db = compute_gradient(X, y, w, b)\n",
        "      w = w - alpha * dL_dw\n",
        "      b = b - alpha * dL_db\n",
        "\n",
        "      loss = loss_function(X, y, w, b)\n",
        "      loss_hist.append(loss)\n",
        "      \n",
        "      if i % 100 == 0:\n",
        "        print(f\"Loss after {i} iterations : {loss}\")\n",
        "        \n",
        "    ### END CODE HERE ###\n",
        "\n",
        "    return w, b, loss_hist"
      ]
    },
    {
      "cell_type": "markdown",
      "metadata": {
        "id": "y0h3DUMwNocp"
      },
      "source": [
        "Now you have to intialize the model parameters ($w$ and $b$) and learning rate (```alpha```). The learning rate ```alpha``` has to be randomly initialized between 0.0001 and 0.001. For the learning rate, you have to first set the last two digits of your roll number as the random seed using ```random.seed()``` function."
      ]
    },
    {
      "cell_type": "code",
      "execution_count": 12,
      "metadata": {
        "id": "Xd8QFReNDyGs"
      },
      "outputs": [],
      "source": [
        "## CODE REQUIRED ##\n",
        "\n",
        "## set the last two digits of your roll number as the random seed\n",
        "random_seed = None\n",
        "### START CODE HERE ###\n",
        "random_seed = 16\n",
        "### END CODE HERE ###\n",
        "np.random.seed(random_seed)\n",
        "\n",
        "def initialize_parameters():\n",
        "    \"\"\"\n",
        "    This function randomly initializes the model parameters (w and b) and the hyperparameter alpha\n",
        "    Initial w and b should be randomly sampled from a normal distribution with mean 0\n",
        "    alpha should be randomly initialized between 0.0001 and 0.001 by using last two digits of your roll number as the random seed\n",
        "    Args:\n",
        "        None\n",
        "    Returns:\n",
        "        initial_w: Initial parameters of the linear regression model (excluding the bias) of the shape (1, number of features)\n",
        "        initial_b: Initial bias parameter (scalar) of the linear regression model\n",
        "        alpha: Learning rate\n",
        "    \"\"\"\n",
        "\n",
        "    initial_w = None\n",
        "    initial_b = None\n",
        "    alpha = None\n",
        "\n",
        "    ### START CODE HERE ###\n",
        "    initial_w = np.random.randn(1, X_train.shape[1])\n",
        "    initial_b = np.random.randn()\n",
        "    alpha = np.random.uniform(0.0001, 0.001)\n",
        "    ### END CODE HERE ###\n",
        "\n",
        "    return initial_w,initial_b,alpha\n"
      ]
    },
    {
      "cell_type": "markdown",
      "metadata": {
        "id": "l7nt5VdORUEu"
      },
      "source": [
        "In the next cell, the model is trained using batch gradient descent algorithm for ```num_iters=10000``` iterations. You can change the number of iterations to check any improvements in the performance."
      ]
    },
    {
      "cell_type": "code",
      "execution_count": 13,
      "metadata": {
        "id": "9rAYubtASozV",
        "tags": []
      },
      "outputs": [
        {
          "name": "stdout",
          "output_type": "stream",
          "text": [
            "Loss after 0 iterations : 535310.5377743538\n",
            "Loss after 100 iterations : 432438.62084917555\n",
            "Loss after 200 iterations : 351279.8996670774\n",
            "Loss after 300 iterations : 287239.70120835665\n",
            "Loss after 400 iterations : 236695.76144519766\n",
            "Loss after 500 iterations : 196792.4244320377\n",
            "Loss after 600 iterations : 165278.3971835133\n",
            "Loss after 700 iterations : 140378.84217516243\n",
            "Loss after 800 iterations : 120694.54023826282\n",
            "Loss after 900 iterations : 105122.39465945202\n",
            "Loss after 1000 iterations : 92792.75982376914\n",
            "Loss after 1100 iterations : 83020.033647834\n",
            "Loss after 1200 iterations : 75263.70664917163\n",
            "Loss after 1300 iterations : 69097.65460491748\n",
            "Loss after 1400 iterations : 64185.93012327243\n",
            "Loss after 1500 iterations : 60263.677695152626\n",
            "Loss after 1600 iterations : 57122.08789059703\n",
            "Loss after 1700 iterations : 54596.535853691\n",
            "Loss after 1800 iterations : 52557.23016977828\n",
            "Loss after 1900 iterations : 50901.84080875419\n",
            "Loss after 2000 iterations : 49549.68729198573\n",
            "Loss after 2100 iterations : 48437.156876505986\n",
            "Loss after 2200 iterations : 47514.0924351412\n",
            "Loss after 2300 iterations : 46740.94480574356\n",
            "Loss after 2400 iterations : 46086.527816993206\n",
            "Loss after 2500 iterations : 45526.2484400719\n",
            "Loss after 2600 iterations : 45040.7115103921\n",
            "Loss after 2700 iterations : 44614.61974524027\n",
            "Loss after 2800 iterations : 44235.906560804186\n",
            "Loss after 2900 iterations : 43895.05241884553\n",
            "Loss after 3000 iterations : 43584.54586074663\n",
            "Loss after 3100 iterations : 43298.45860725375\n",
            "Loss after 3200 iterations : 43032.11058302446\n",
            "Loss after 3300 iterations : 42781.80583427381\n",
            "Loss after 3400 iterations : 42544.62433569246\n",
            "Loss after 3500 iterations : 42318.257858225224\n",
            "Loss after 3600 iterations : 42100.880572668815\n",
            "Loss after 3700 iterations : 41891.047037602126\n",
            "Loss after 3800 iterations : 41687.61177603429\n",
            "Loss after 3900 iterations : 41489.66587174193\n",
            "Loss after 4000 iterations : 41296.486983257324\n",
            "Loss after 4100 iterations : 41107.499935806474\n",
            "Loss after 4200 iterations : 40922.245652490885\n",
            "Loss after 4300 iterations : 40740.35665980759\n",
            "Loss after 4400 iterations : 40561.53777612695\n",
            "Loss after 4500 iterations : 40385.55088621983\n",
            "Loss after 4600 iterations : 40212.20293707589\n",
            "Loss after 4700 iterations : 40041.33647327215\n",
            "Loss after 4800 iterations : 39872.82217443458\n",
            "Loss after 4900 iterations : 39706.55297108331\n",
            "Loss after 5000 iterations : 39542.43940482543\n",
            "Loss after 5100 iterations : 39380.4059695552\n",
            "Loss after 5200 iterations : 39220.388226054\n",
            "Loss after 5300 iterations : 39062.33052632118\n",
            "Loss after 5400 iterations : 38906.18421860508\n",
            "Loss after 5500 iterations : 38751.90623141161\n",
            "Loss after 5600 iterations : 38599.45795629633\n",
            "Loss after 5700 iterations : 38448.804366217955\n",
            "Loss after 5800 iterations : 38299.91331961138\n",
            "Loss after 5900 iterations : 38152.75501088689\n",
            "Loss after 6000 iterations : 38007.30153637774\n",
            "Loss after 6100 iterations : 37863.526551314615\n",
            "Loss after 6200 iterations : 37721.40499857388\n",
            "Loss after 6300 iterations : 37580.91289402065\n",
            "Loss after 6400 iterations : 37442.02715648075\n",
            "Loss after 6500 iterations : 37304.72547290723\n",
            "Loss after 6600 iterations : 37168.986191304124\n",
            "Loss after 6700 iterations : 37034.78823554383\n",
            "Loss after 6800 iterations : 36902.11103745528\n",
            "Loss after 6900 iterations : 36770.93448253835\n",
            "Loss after 7000 iterations : 36641.2388664312\n",
            "Loss after 7100 iterations : 36513.00485986507\n",
            "Loss after 7200 iterations : 36386.21348032035\n",
            "Loss after 7300 iterations : 36260.84606897606\n",
            "Loss after 7400 iterations : 36136.88427184179\n",
            "Loss after 7500 iterations : 36014.31002419724\n",
            "Loss after 7600 iterations : 35893.10553764865\n",
            "Loss after 7700 iterations : 35773.25328925779\n",
            "Loss after 7800 iterations : 35654.73601231439\n",
            "Loss after 7900 iterations : 35537.53668841325\n",
            "Loss after 8000 iterations : 35421.63854056908\n",
            "Loss after 8100 iterations : 35307.0250271584\n",
            "Loss after 8200 iterations : 35193.67983652229\n",
            "Loss after 8300 iterations : 35081.58688209889\n",
            "Loss after 8400 iterations : 34970.73029798197\n",
            "Loss after 8500 iterations : 34861.0944348241\n",
            "Loss after 8600 iterations : 34752.663856019615\n",
            "Loss after 8700 iterations : 34645.42333411651\n",
            "Loss after 8800 iterations : 34539.35784741696\n",
            "Loss after 8900 iterations : 34434.45257673437\n",
            "Loss after 9000 iterations : 34330.69290228195\n",
            "Loss after 9100 iterations : 34228.064400672505\n",
            "Loss after 9200 iterations : 34126.55284201378\n",
            "Loss after 9300 iterations : 34026.144187086524\n",
            "Loss after 9400 iterations : 33926.82458459545\n",
            "Loss after 9500 iterations : 33828.5803684846\n",
            "Loss after 9600 iterations : 33731.39805531122\n",
            "Loss after 9700 iterations : 33635.26434167244\n",
            "Loss after 9800 iterations : 33540.16610168097\n",
            "Loss after 9900 iterations : 33446.090384486204\n",
            "Updated w:  [[ 9.20900107  2.04449652 -5.33235865 17.67910885]]\n",
            "Updated b:  25.52222468411851\n"
          ]
        }
      ],
      "source": [
        "# initialize the parameters and hyperparameter\n",
        "initial_w, initial_b, alpha = initialize_parameters()\n",
        "\n",
        "# number of iterations\n",
        "num_iters = 10000\n",
        "\n",
        "w,b,loss_hist = batch_gradient_descent(X_train ,y_train, initial_w, initial_b, alpha, num_iters)\n",
        "print(\"Updated w: \",w)\n",
        "print(\"Updated b: \",b)"
      ]
    },
    {
      "cell_type": "markdown",
      "metadata": {
        "id": "sluek2LkSozW"
      },
      "source": [
        "### 1.5. Final Train Error and Test Error"
      ]
    },
    {
      "cell_type": "markdown",
      "metadata": {
        "id": "EH9oHC10fAlV"
      },
      "source": [
        "After the linear regression model is trained, we will compute the final train error and test error for the trained model."
      ]
    },
    {
      "cell_type": "code",
      "execution_count": 14,
      "metadata": {
        "id": "UIXb7sSvSozW",
        "tags": []
      },
      "outputs": [
        {
          "name": "stdout",
          "output_type": "stream",
          "text": [
            "Train Error:  33353.950114867366 , Test Error:  18225.364843597752\n"
          ]
        }
      ],
      "source": [
        "## Train and Test error computation\n",
        "\n",
        "train_error = loss_function(X_train,y_train,w,b)\n",
        "test_error = loss_function(X_test,y_test,w,b)\n",
        "print(\"Train Error: \",train_error, \", Test Error: \",test_error)"
      ]
    },
    {
      "cell_type": "markdown",
      "metadata": {
        "id": "eximd12PbAgC"
      },
      "source": [
        "### 1.6. Plotting the loss function"
      ]
    },
    {
      "cell_type": "markdown",
      "metadata": {
        "id": "meDwLCCIfOBo"
      },
      "source": [
        "We will plot the loss function values for every training iteration. If the model is trained properly, you will see that the loss function reduces as the training progesses and it converges at some point."
      ]
    },
    {
      "cell_type": "code",
      "execution_count": 15,
      "metadata": {
        "id": "DW4bue0oSozW"
      },
      "outputs": [
        {
          "data": {
            "image/png": "[encoded data removed]",
            "text/plain": [
              "<Figure size 640x480 with 1 Axes>"
            ]
          },
          "metadata": {},
          "output_type": "display_data"
        }
      ],
      "source": [
        "# PLotting the loss values for every training iterations\n",
        "\n",
        "loss_plot = [loss_hist[i] for i in range(len(loss_hist))]\n",
        "plt.xlabel(\"Iterations\")\n",
        "plt.ylabel(\"Loss function\")\n",
        "plt.plot(loss_plot)\n",
        "plt.show()"
      ]
    },
    {
      "cell_type": "markdown",
      "metadata": {
        "id": "BAVgq4HWCmDX"
      },
      "source": [
        "### 1.7 Experimenting with different values of the Hyperparemeters\n",
        "\n",
        "Previously, we randomly sampled the learning rate and the number of features to train the model. Now, you have to manually choose the number of features and the learning rate. Then, you have to train the model again on the manually choosen hyperparameters (number of features and learning rate). In the next cell, you have to manually choose the hyperparameters and write the code to train the model.\n",
        "\n",
        "After the model is trained, you have to compare the performance of the model with random chosen hyperparameters and manually chosen hyperparameters."
      ]
    },
    {
      "cell_type": "code",
      "execution_count": 16,
      "metadata": {
        "id": "K2QuEbE1Clxq"
      },
      "outputs": [
        {
          "name": "stdout",
          "output_type": "stream",
          "text": [
            "Loss after 0 iterations : 389145.1232332694\n",
            "Loss after 100 iterations : 37229.28907800067\n",
            "Loss after 200 iterations : 31319.792650219293\n",
            "Loss after 300 iterations : 29319.908917046574\n",
            "Loss after 400 iterations : 27703.441841898588\n",
            "Loss after 500 iterations : 26370.320322201944\n",
            "Loss after 600 iterations : 25267.508101645173\n",
            "Loss after 700 iterations : 24352.48458227471\n",
            "Loss after 800 iterations : 23590.89410636034\n",
            "Loss after 900 iterations : 22954.936629525993\n",
            "Loss after 1000 iterations : 22422.08277596104\n",
            "Loss after 1100 iterations : 21974.045106800833\n",
            "Loss after 1200 iterations : 21595.953939009385\n",
            "Loss after 1300 iterations : 21275.696561492612\n",
            "Loss after 1400 iterations : 21003.387036510387\n",
            "Loss after 1500 iterations : 20770.94041695782\n",
            "Loss after 1600 iterations : 20571.73050098382\n",
            "Loss after 1700 iterations : 20400.3144606231\n",
            "Loss after 1800 iterations : 20252.211040110175\n",
            "Loss after 1900 iterations : 20123.721696911816\n",
            "Loss after 2000 iterations : 20011.78619316149\n",
            "Loss after 2100 iterations : 19913.865847625973\n",
            "Loss after 2200 iterations : 19827.849016529\n",
            "Loss after 2300 iterations : 19751.97445549336\n",
            "Loss after 2400 iterations : 19684.76908025444\n",
            "Loss after 2500 iterations : 19624.997334997148\n",
            "Loss after 2600 iterations : 19571.619929488195\n",
            "Loss after 2700 iterations : 19523.76014773838\n",
            "Loss after 2800 iterations : 19480.676284135403\n",
            "Loss after 2900 iterations : 19441.739045679824\n",
            "Loss after 3000 iterations : 19406.412985356434\n",
            "Loss after 3100 iterations : 19374.241213112535\n",
            "Loss after 3200 iterations : 19344.832776430274\n",
            "Loss after 3300 iterations : 19317.85221927721\n",
            "Loss after 3400 iterations : 19293.01092204691\n",
            "Loss after 3500 iterations : 19270.05990054603\n",
            "Loss after 3600 iterations : 19248.78380280875\n",
            "Loss after 3700 iterations : 19228.99589144774\n",
            "Loss after 3800 iterations : 19210.533838720155\n",
            "Loss after 3900 iterations : 19193.25619336503\n",
            "Loss after 4000 iterations : 19177.039404049014\n",
            "Loss after 4100 iterations : 19161.7753051361\n",
            "Loss after 4200 iterations : 19147.368987430942\n",
            "Loss after 4300 iterations : 19133.736990301644\n",
            "Loss after 4400 iterations : 19120.80576278136\n",
            "Loss after 4500 iterations : 19108.510350372417\n",
            "Loss after 4600 iterations : 19096.793271727533\n",
            "Loss after 4700 iterations : 19085.603555480047\n",
            "Loss after 4800 iterations : 19074.8959124931\n",
            "Loss after 4900 iterations : 19064.630022904963\n",
            "Loss after 5000 iterations : 19054.76992072916\n",
            "Loss after 5100 iterations : 19045.283461558618\n",
            "Loss after 5200 iterations : 19036.141861231525\n",
            "Loss after 5300 iterations : 19027.319295230107\n",
            "Loss after 5400 iterations : 19018.79255017446\n",
            "Loss after 5500 iterations : 19010.5407200986\n",
            "Loss after 5600 iterations : 19002.54494130263\n",
            "Loss after 5700 iterations : 18994.788160501925\n",
            "Loss after 5800 iterations : 18987.254931771844\n",
            "Loss after 5900 iterations : 18979.93123844114\n",
            "Loss after 6000 iterations : 18972.804336639456\n",
            "Loss after 6100 iterations : 18965.86261767103\n",
            "Loss after 6200 iterations : 18959.09548678264\n",
            "Loss after 6300 iterations : 18952.49325623001\n",
            "Loss after 6400 iterations : 18946.047050833207\n",
            "Loss after 6500 iterations : 18939.748724456105\n",
            "Loss after 6600 iterations : 18933.590786053832\n",
            "Loss after 6700 iterations : 18927.566334111543\n",
            "Loss after 6800 iterations : 18921.66899845164\n",
            "Loss after 6900 iterations : 18915.892888518945\n",
            "Loss after 7000 iterations : 18910.232547367745\n",
            "Loss after 7100 iterations : 18904.68291067311\n",
            "Loss after 7200 iterations : 18899.239270174166\n",
            "Loss after 7300 iterations : 18893.89724103119\n",
            "Loss after 7400 iterations : 18888.652732642302\n",
            "Loss after 7500 iterations : 18883.501922521602\n",
            "Loss after 7600 iterations : 18878.441232888857\n",
            "Loss after 7700 iterations : 18873.46730966354\n",
            "Loss after 7800 iterations : 18868.57700359253\n",
            "Loss after 7900 iterations : 18863.767353273463\n",
            "Loss after 8000 iterations : 18859.03556986369\n",
            "Loss after 8100 iterations : 18854.37902328954\n",
            "Loss after 8200 iterations : 18849.79522979248\n",
            "Loss after 8300 iterations : 18845.28184066729\n",
            "Loss after 8400 iterations : 18840.836632064733\n",
            "Loss after 8500 iterations : 18836.45749574522\n",
            "Loss after 8600 iterations : 18832.142430683292\n",
            "Loss after 8700 iterations : 18827.88953543396\n",
            "Loss after 8800 iterations : 18823.697001181925\n",
            "Loss after 8900 iterations : 18819.563105403693\n",
            "Loss after 9000 iterations : 18815.48620608013\n",
            "Loss after 9100 iterations : 18811.4647364041\n",
            "Loss after 9200 iterations : 18807.497199933892\n",
            "Loss after 9300 iterations : 18803.582166148353\n",
            "Loss after 9400 iterations : 18799.718266364587\n",
            "Loss after 9500 iterations : 18795.904189983215\n",
            "Loss after 9600 iterations : 18792.13868102991\n",
            "Loss after 9700 iterations : 18788.42053496527\n",
            "Loss after 9800 iterations : 18784.748595738027\n",
            "Loss after 9900 iterations : 18781.12175305911\n",
            "Updated w:  [[  4.32030184 -11.16342383 -15.14145163  12.93214327  17.56265619\n",
            "   13.21687999]]\n",
            "Updated b:  20.85351940427824\n",
            "Train Error:  18777.574553464627 , Test Error:  14183.182915610809\n"
          ]
        },
        {
          "data": {
            "image/png": "[encoded data removed]",
            "text/plain": [
              "<Figure size 640x480 with 1 Axes>"
            ]
          },
          "metadata": {},
          "output_type": "display_data"
        }
      ],
      "source": [
        "## CODE REQUIRED ##\n",
        "\n",
        "\"\"\"\n",
        "Manually choose the hyperparameters (learning rate and number of features) and train the model.\n",
        "Then compare the performance with random chosen hyperparameters and manually chosen hyperparameters.\n",
        "\"\"\"\n",
        "\n",
        "### START CODE HERE ###\n",
        "# in this I am planning to use all the 6 features\n",
        "df = pd.read_csv(filepath)\n",
        "X = df.iloc[:, :-1].values\n",
        "y = df.iloc[:, -1].values\n",
        "\n",
        "# let us normalize the features and then perform test-train split\n",
        "X = min_max_scaler(X)\n",
        "X_train, X_test, y_train, y_test = train_test_split(X, y, test_size=0.3, random_state=42)\n",
        "\n",
        "# setting random seed as 42\n",
        "np.random.seed(42)\n",
        "\n",
        "# initialising parameters\n",
        "initial_w = np.random.randn(1, X_train.shape[1])\n",
        "initial_b = np.random.randn()\n",
        "alpha = 0.01\n",
        "\n",
        "# number of iterations\n",
        "num_iters = 10000\n",
        "\n",
        "# training the model and printing the final parameters\n",
        "w,b,loss_hist = batch_gradient_descent(X_train ,y_train, initial_w, initial_b, alpha, num_iters)\n",
        "print(\"Updated w: \",w)\n",
        "print(\"Updated b: \",b)\n",
        "\n",
        "# taking the training and test loss\n",
        "train_error = loss_function(X_train,y_train,w,b)\n",
        "test_error = loss_function(X_test,y_test,w,b)\n",
        "print(\"Train Error: \",train_error, \", Test Error: \",test_error)\n",
        "\n",
        "# Plotting the loss values for every training iterations\n",
        "loss_plot = [loss_hist[i] for i in range(len(loss_hist))]\n",
        "plt.xlabel(\"Iterations\")\n",
        "plt.ylabel(\"Loss function\")\n",
        "plt.plot(loss_plot)\n",
        "plt.show()\n",
        "\n",
        "### END CODE HERE ###"
      ]
    },
    {
      "cell_type": "markdown",
      "metadata": {
        "id": "XZ0CviUnZui0"
      },
      "source": [
        "## Part 2: Logistic Regression\n",
        "\n",
        "### Problem Statement\n",
        "A Food grain industry requires an efficient classification system to help in sorting food grain species. You have to develop a Logistic Regression model for this purpose.\n",
        " Given various features of a rice grain such as area, perimeter, axis lengths etc. as input features, the task is to build a logistic regression model to predict the species of the food grain.\n",
        "\n",
        "### Dataset Description\n",
        "\n",
        "**For Even Roll Number Students**\n",
        "\n",
        "Dataset Filename: Rice_Classification.csv\n",
        "\n",
        "Attribute Information:\n",
        "+ Area: Returns the number of pixels within the boundaries of the rice grain.\n",
        "+ Perimeter: Calculates the circumference by calculating the distance between pixels around the boundaries of the rice grain.\n",
        "+ Major Axis Length: The longest line that can be drawn on the rice grain, i.e. the main axis distance, gives.\n",
        "+ Minor Axis Length: The shortest line that can be drawn on the rice grain, i.e. the small axis distance, gives.\n",
        "+ Eccentricity: It measures how round the ellipse, which has the same moments as the rice grain, is.\n",
        "+ Convex Area: Returns the pixel count of the smallest convex shell of the region formed by the rice grain.\n",
        "+ Extent: Returns the ratio of the region formed by the rice grain to the bounding box pixels.\n",
        "\n",
        "Target Variable: Class: Cammeo and Osmancik\n",
        "\n",
        "**For Odd Roll Number Students**\n",
        "\n",
        "Dataset Filename: Pumpkin_Seeds_Dataset.csv\n",
        "\n",
        "Attribute Information:\n",
        "\n",
        "+ Area: Represents the number of pixels within the boundaries of the pumpkin seed.\n",
        "\n",
        "+ Perimeter: Calculates the circumference by measuring the distance between pixels around the boundary of the pumpkin seed.\n",
        "\n",
        "+ Major Axis Length: The longest line that can be drawn on the pumpkin seed, representing the main axis distance.\n",
        "\n",
        "+ Minor Axis Length: The shortest line that can be drawn on the pumpkin seed, representing the minor axis distance.\n",
        "\n",
        "+ Convex Area: Returns the pixel count of the smallest convex shell that can contain the pumpkin seed.\n",
        "\n",
        "+ Equivalent Diameter: Diameter of a circle with the same area as the pumpkin seed.\n",
        "\n",
        "+ Eccentricity: This measures how round the ellipse, which has the same moments as the pumpkin seed has.\n",
        "\n",
        "+ Solidity: This is the ratio of the area of the pumpkin seed to the area of its convex hull. It measures the extent to which the shape is convex.\n",
        "\n",
        "+ Extent: Returns the ratio of the area of the pumpkin seed to the area of its bounding box.\n",
        "\n",
        "+ Roundness: Measure of how closely the shape of the pumpkin seed approaches that of a circle.\n",
        "\n",
        "+ Aspect Ratio: Ratio of the major axis length to the minor axis length.\n",
        "\n",
        "+ Compactness: Measure of the shape's compactness, which is the shape's deviation from being a perfect circle. In essence, compactness quantifies how efficiently an object's area is packed within its perimeter.\n",
        "\n",
        "Target Variable: Class: Çerçevelik and Ürgüp Sivrisi\n",
        "\n",
        "\n",
        "\n",
        "These are the following steps or functions that you have to complete to create and train the linear regression model:\n",
        "1. Reading the data\n",
        "2. Creating the sigmoid function\n",
        "2. Computing the loss function\n",
        "3. Computing the gradient of the loss\n",
        "4. Training the model using Batch Gradient Descent"
      ]
    },
    {
      "cell_type": "code",
      "execution_count": 17,
      "metadata": {
        "id": "T27XOBZrRZ4M"
      },
      "outputs": [],
      "source": [
        "import numpy as np\n",
        "import pandas as pd\n",
        "import matplotlib.pyplot as plt\n",
        "from scipy.special import logsumexp\n",
        "import copy\n",
        "import math"
      ]
    },
    {
      "cell_type": "markdown",
      "metadata": {
        "id": "G3luUk4L0WO_"
      },
      "source": [
        "### 2.1. Reading the data\n",
        "\n",
        "In the function ```load_data```, you have to read data from the file, store it in a dataframe and split the data from the dataframe into two numpy arrays X and y.\n",
        "\n",
        "**X** : data of the input features\n",
        "\n",
        "**y**  : data of the class labels\n",
        "\n",
        "The class labels in **y** should be replaced with '0' and '1', for corresponding classes."
      ]
    },
    {
      "cell_type": "code",
      "execution_count": 18,
      "metadata": {
        "id": "7-RV0JgEZi1h"
      },
      "outputs": [
        {
          "name": "stdout",
          "output_type": "stream",
          "text": [
            "Shape of X:  (3810, 7) Shape of y:  (3810,)\n"
          ]
        }
      ],
      "source": [
        "## CODE REQUIRED ##\n",
        "\n",
        "def load_data(filepath):\n",
        "    \"\"\"\n",
        "    This function loads the data into a pandas dataframe and converts it into X and y numpy arrays\n",
        "    y should be a binary numpy array with values 0 and 1, for 2 different classes\n",
        "    Args:\n",
        "        filepath: File path as a string\n",
        "    Returns:\n",
        "        X: Input data of the shape (# of samples, # of input features)\n",
        "        y: Target variable of the shape (# of sample,) with values 0 and 1, for 2 different classes\n",
        "    \"\"\"\n",
        "\n",
        "    ### START CODE HERE ###\n",
        "    df = pd.read_csv(filepath)\n",
        "    X = df.iloc[:, :-1].values\n",
        "    y = df.iloc[:, -1].values\n",
        "    unique_classes = np.unique(y)\n",
        "    y = np.where(y == unique_classes[0], 0, 1)\n",
        "    ### END CODE HERE ###\n",
        "\n",
        "    return X,y\n",
        "\n",
        "filepath = None\n",
        "### START CODE HERE ###\n",
        "## set the file path\n",
        "filepath = \"Rice_Classification.csv\"\n",
        "### END CODE HERE ###\n",
        "\n",
        "X, y = load_data(filepath)\n",
        "\n",
        "print(\"Shape of X: \",X.shape, \"Shape of y: \",y.shape)"
      ]
    },
    {
      "cell_type": "markdown",
      "metadata": {
        "id": "sLGPG1YU-C47"
      },
      "source": [
        "We will not use all the features from X.\n",
        "\n",
        "For Even Roll Number Students: Set the last two digits of your roll number as the random seed and pick a number r between 4 and 7 (both inclusive) randomly. Use the first r features of the numpy array X.\n",
        "\n",
        "For Odd Roll Number Students: Set the last two digits of your roll number as the random seed and pick a number r between 8 and 12 (both inclusive) randomly. Use the first r features of the numpy array X."
      ]
    },
    {
      "cell_type": "code",
      "execution_count": 19,
      "metadata": {
        "id": "JNsDb2Ae94s6"
      },
      "outputs": [
        {
          "name": "stdout",
          "output_type": "stream",
          "text": [
            "Shape of X:  (3810, 5) Shape of y:  (3810,)\n"
          ]
        }
      ],
      "source": [
        "## CODE REQUIRED ##\n",
        "\n",
        "def random_feature_selection(X):\n",
        "    \"\"\"\n",
        "\n",
        "    Args:\n",
        "        X: Input data of the shape (# of samples, # of input features)\n",
        "    Returns:\n",
        "        X_new: New input data of the shape (# of samples, r) containg only the first r features from X\n",
        "    \"\"\"\n",
        "\n",
        "    X_new = None\n",
        "\n",
        "    ### START CODE HERE ###\n",
        "    np.random.seed(16)\n",
        "    r = np.random.randint(4, 8)\n",
        "    X_new = X[:, :r]\n",
        "    ### END CODE HERE ###\n",
        "\n",
        "    return X_new\n",
        "\n",
        "X = random_feature_selection(X)\n",
        "print(\"Shape of X: \",X.shape, \"Shape of y: \",y.shape)"
      ]
    },
    {
      "cell_type": "markdown",
      "metadata": {
        "id": "t4u-qBe34wC9"
      },
      "source": [
        "We need to pre-process the data. We are using min-max scaler to scale the input data ($X$).\n",
        "\n",
        "After that, we split the data (```X``` and ```y```) into a training dataset (```X_train``` and ```y_train```) and test dataset (```X_test``` and ```y_test```)"
      ]
    },
    {
      "cell_type": "code",
      "execution_count": 20,
      "metadata": {
        "id": "YTO4etePa0i1"
      },
      "outputs": [
        {
          "name": "stdout",
          "output_type": "stream",
          "text": [
            "Shape of X_train:  (2857, 5) Shape of y_train:  (2857,)\n",
            "Shape of X_test:  (953, 5) Shape of y_test:  (953,)\n"
          ]
        }
      ],
      "source": [
        "## Data scaling and train-test split\n",
        "\n",
        "def train_test_split(X, y, test_size=0.25, random_state=None):\n",
        "    if random_state is not None:\n",
        "        np.random.seed(random_state)\n",
        "    indices = np.arange(X.shape[0])\n",
        "    np.random.shuffle(indices)\n",
        "\n",
        "    split_index = int(X.shape[0] * (1 - test_size))\n",
        "\n",
        "    train_indices = indices[:split_index]\n",
        "    test_indices = indices[split_index:]\n",
        "\n",
        "    X_train = X[train_indices]\n",
        "    X_test = X[test_indices]\n",
        "    y_train = y[train_indices]\n",
        "    y_test = y[test_indices]\n",
        "\n",
        "    return X_train, X_test, y_train, y_test\n",
        "\n",
        "def min_max_scaler(X, feature_range=(0, 1)):\n",
        "    X_min = np.min(X, axis=0)\n",
        "    X_max = np.max(X, axis=0)\n",
        "\n",
        "    X_scaled = (X-X_min)/(X_max-X_min)\n",
        "\n",
        "    return X_scaled\n",
        "\n",
        "# Feature normalization\n",
        "X = min_max_scaler(X)\n",
        "X_train, X_test, y_train, y_test = train_test_split(X, y, test_size=0.25, random_state=42)\n",
        "print(\"Shape of X_train: \",X_train.shape, \"Shape of y_train: \",y_train.shape)\n",
        "print(\"Shape of X_test: \",X_test.shape, \"Shape of y_test: \",y_test.shape)"
      ]
    },
    {
      "cell_type": "markdown",
      "metadata": {
        "id": "K8SbmjD945Ra"
      },
      "source": [
        "### 2.2. Creating the Sigmoid Function\n",
        "Recall that for logistic regression, the model is represented as\n",
        "\n",
        "$$ f_{\\mathbf{w},b}(x) = g(\\mathbf{w}\\cdot \\mathbf{x} + b)$$\n",
        "where function $g$ is the sigmoid function. The sigmoid function is defined as:\n",
        "\n",
        "$$g(z) = \\frac{1}{1+e^{-z}}$$\n",
        "\n",
        "\n",
        "The function below returns the value of the sigmoid function for an input numpy array z. If the numpy array 'z' stores multiple numbers, we'd like to apply the sigmoid function to each value in the input array"
      ]
    },
    {
      "cell_type": "code",
      "execution_count": 21,
      "metadata": {
        "id": "G44B1vITbBpE"
      },
      "outputs": [],
      "source": [
        "## CODE REQUIRED ##\n",
        "\n",
        "def sigmoid(z):\n",
        "    \"\"\"\n",
        "    Compute the sigmoid of z\n",
        "\n",
        "    Args:\n",
        "        z: A scalar or numpy array of any size.\n",
        "\n",
        "    Returns:\n",
        "        g: sigmoid(z)\n",
        "    \"\"\"\n",
        "    g = None\n",
        "    z = z.astype(float)\n",
        "    ### START CODE HERE ###\n",
        "    g = 1 / (1 + np.exp(-z))\n",
        "    ### END SOLUTION ###\n",
        "\n",
        "    return g"
      ]
    },
    {
      "cell_type": "markdown",
      "metadata": {
        "id": "kV-Ygf1R8HMl"
      },
      "source": [
        "### 2.3. Computing the loss Function\n",
        "\n",
        "Recall that for logistic regression, the cost function is of the form\n",
        "\n",
        "$$ J(\\mathbf{w},b) = \\frac{1}{m}\\sum_{i=0}^{m-1} \\left[ loss(f_{\\mathbf{w},b}(\\mathbf{x}^{(i)}), y^{(i)}) \\right] \\tag{1}$$\n",
        "\n",
        "where\n",
        "* m is the number of training examples in the dataset\n",
        "\n",
        "\n",
        "* $loss(f_{\\mathbf{w},b}(\\mathbf{x}^{(i)}), y^{(i)})$ is the cost for a single data point, which is -\n",
        "\n",
        "    $$loss(f_{\\mathbf{w},b}(\\mathbf{x}^{(i)}), y^{(i)}) = (-y^{(i)} \\log\\left(f_{\\mathbf{w},b}\\left( \\mathbf{x}^{(i)} \\right) \\right) - \\left( 1 - y^{(i)}\\right) \\log \\left( 1 - f_{\\mathbf{w},b}\\left( \\mathbf{x}^{(i)} \\right) \\right) \\tag{2}$$\n",
        "    \n",
        "    \n",
        "*  $f_{\\mathbf{w},b}(\\mathbf{x}^{(i)})$ is the model's prediction, while $y^{(i)}$, which is the actual label\n",
        "\n",
        "*  $f_{\\mathbf{w},b}(\\mathbf{x}^{(i)}) = g(\\mathbf{w} \\cdot \\mathbf{x^{(i)}} + b)$ where function $g$ is the sigmoid function.\n",
        "\n",
        "Please complete the function loss_function that takes\n",
        "\n",
        " **X**  (input features)\n",
        "\n",
        " **y**  (class labels)\n",
        "\n",
        " **w**  (Parameters of the logistic regression model, (excluding the bias), a numpy array of the shape(1, number of features))\n",
        "\n",
        " **b**  (Bias value of the logistic regression model)\n",
        "\n",
        " You can use the Sigmoid function that you implemented above."
      ]
    },
    {
      "cell_type": "code",
      "execution_count": 22,
      "metadata": {
        "id": "h9RVguhHbEVk"
      },
      "outputs": [],
      "source": [
        "## CODE REQUIRED ##\n",
        "\n",
        "def loss_function(X, y, w, b):\n",
        " \"\"\"\n",
        " Computes the loss function for all the training examples\n",
        " Args:\n",
        "        X: Input data of the shape (# of training samples, # of input features)\n",
        "        y: Target variable of the shape (# of training sample,)\n",
        "        w: Parameters of the logistic regression model (excluding the bias) of the shape (1, number of features)\n",
        "        b: Bias parameter (scalar) of the logistic regression model\n",
        "\n",
        "  Returns:\n",
        "        total_cost: The loss function value of using w and b as the parameters to fit the data points in X and y\n",
        "\n",
        " \"\"\"\n",
        " m, n = X.shape\n",
        " \n",
        " total_cost = 0\n",
        " ### START CODE HERE ###\n",
        " z = np.dot(X, w.T) + b\n",
        " h = sigmoid(z)\n",
        " h = np.clip(h, 1e-7, 1-1e-7)\n",
        " total_cost = -np.sum(y.reshape(-1, 1) * np.log(h) + (1 - y.reshape(-1, 1)) * np.log(1 - h))\n",
        " total_cost /= m\n",
        " ### END CODE HERE ###\n",
        "\n",
        " return total_cost"
      ]
    },
    {
      "cell_type": "markdown",
      "metadata": {
        "id": "S9YmUPnsASYE"
      },
      "source": [
        "### 2.4. Computing the Gradient of the Loss\n",
        "\n",
        "Recall that the gradient descent algorithm is:\n",
        "\n",
        "$$\\begin{align*}& \\text{repeat until convergence:} \\; \\lbrace \\newline \\; & b := b -  \\alpha \\frac{\\partial J(\\mathbf{w},b)}{\\partial b} \\newline       \\; & w_j := w_j -  \\alpha \\frac{\\partial J(\\mathbf{w},b)}{\\partial w_j} \\tag{1}  \\; & \\text{for j := 0..n-1}\\newline & \\rbrace\\end{align*}$$\n",
        "\n",
        "where, parameters $b$, $w_j$ are all updated simultaniously\n",
        "\n",
        "In this step, you are required to complete the `compute_gradient_logistic_regression` function to compute $\\frac{\\partial J(\\mathbf{w},b)}{\\partial w}$, $\\frac{\\partial J(\\mathbf{w},b)}{\\partial b}$ from equations (2) and (3) below.\n",
        "\n",
        "$$\n",
        "\\frac{\\partial J(\\mathbf{w},b)}{\\partial b}  = \\frac{1}{m} \\sum\\limits_{i = 0}^{m-1} (f_{\\mathbf{w},b}(\\mathbf{x}^{(i)}) - \\mathbf{y}^{(i)}) \\tag{2}\n",
        "$$\n",
        "$$\n",
        "\\frac{\\partial J(\\mathbf{w},b)}{\\partial w_j}  = \\frac{1}{m} \\sum\\limits_{i = 0}^{m-1} (f_{\\mathbf{w},b}(\\mathbf{x}^{(i)}) - \\mathbf{y}^{(i)})x_{j}^{(i)} \\tag{3}\n",
        "$$\n",
        "* m is the number of training examples in the dataset\n",
        "\n",
        "    \n",
        "*  $f_{\\mathbf{w},b}(x^{(i)})$ is the model's prediction, while $y^{(i)}$ is the actual label\n",
        "\n",
        "You can use the sigmoid function that you implemented above."
      ]
    },
    {
      "cell_type": "code",
      "execution_count": 23,
      "metadata": {
        "id": "PWxbewKkbIB8"
      },
      "outputs": [],
      "source": [
        "## CODE REQUIRED ##\n",
        "\n",
        "def compute_gradient_logistic_regression(X, y, w, b):\n",
        "    \"\"\"\n",
        "    Computes the gradient values of the loss function\n",
        "    Args:\n",
        "       X: Input data of the shape (# of training samples, # of input features)\n",
        "       y: Target variable of the shape (# of training sample,)\n",
        "       w: Parameters of the logistic regression model (excluding the bias) of the shape (1, number of features)\n",
        "       b: Bias parameter of the logistic regression model of the shape (1,1) or a scaler\n",
        "    Returns:\n",
        "       dL_dw : The gradient of the cost w.r.t. the parameters w with shape same as w\n",
        "       dL_db : The gradient of the cost w.r.t. the parameter b with shape same as b\n",
        "    \"\"\"\n",
        "    m, n = X.shape\n",
        "    dj_dw = np.zeros(w.shape)\n",
        "    dj_db = 0\n",
        "\n",
        "    ## START CODE HERE ###\n",
        "    z = np.dot(X, w.T) + b\n",
        "    h = sigmoid(z)\n",
        "    dj_dw = np.dot((h-y.reshape(-1, 1)).T, X)\n",
        "    dj_db = np.sum(h - y.reshape(-1, 1))\n",
        "    dj_dw /= m\n",
        "    dj_db /= m\n",
        "    ### END CODE HERE ###\n",
        "\n",
        "\n",
        "    return dj_db, dj_dw"
      ]
    },
    {
      "cell_type": "markdown",
      "metadata": {
        "id": "6ZMYX655MRFX"
      },
      "source": [
        "### 2.5. Training the model using Batch Gradient Descent\n",
        "\n",
        "Please complete the batch gradient descent algorithm for logistic regression to train and learn the parameters of the logistic regression model. You have to use ```loss_function``` and ```compute_gradient_logistic regression``` functions that you have implemented earlier in this assignment.\n",
        "\n",
        "In this ```batch_gradient_descent_logistic_regression``` function, you have to compute the gradient for the training samples and update the parameters $w$ and $b$ in every iteration:\n",
        "\n",
        "+ $w \\leftarrow w - \\alpha \\frac{\\partial L}{\\partial w}$\n",
        "\n",
        "+ $b \\leftarrow b - \\alpha \\frac{\\partial L}{\\partial b}$\n",
        "\n",
        "This function takes   ```X```    (input features),  ```y```  (class labels),  ```w_in```  (intial values of parameters(excluding bias)),  ```b_in```  (initial value for bias),  ```num_iters```   (number of iterations of training) as input.\n",
        "\n",
        "Additionally, you have compute the loss function values in every iteration and store it in the list variable ```loss_hist``` and print the loss value after every 100 iterations during the training process."
      ]
    },
    {
      "cell_type": "code",
      "execution_count": 24,
      "metadata": {
        "id": "JOi07RVNbL_7"
      },
      "outputs": [],
      "source": [
        "## CODE REQUIRED ##\n",
        "\n",
        "def batch_gradient_descent_logistic_regression(X, y, w_in, b_in, alpha, num_iters):\n",
        "    \"\"\"\n",
        "    Batch gradient descent to learn the parameters (w and b) of the linear regression model and to print loss values\n",
        "    every 100 iterations\n",
        "\n",
        "    Args:\n",
        "        X: Input data of the shape (# of training samples, # of input features)\n",
        "        y: Target variable of the shape (# of training sample,)\n",
        "        w_in: Initial parameters of the logistic regression model (excluding the bias) of the shape (1, number of features)\n",
        "        b_in: Initial bias parameter (scalar) of the logistic regression model\n",
        "        alpha: Learning rate\n",
        "        num_iters: number of iterations\n",
        "    Returns\n",
        "        w: Updated values of parameters of the model after training\n",
        "        b: Updated bias of the model after training\n",
        "        loss_hist: List of loss values for every iteration\n",
        "    \"\"\"\n",
        "\n",
        "    # number of training examples\n",
        "    m = len(X)\n",
        "\n",
        "    # list to store the loss values for every iterations\n",
        "    loss_hist = []\n",
        "\n",
        "    ### START CODE HERE ###\n",
        "    for i in range(num_iters):\n",
        "      dj_db, dj_dw = compute_gradient_logistic_regression(X, y, w_in, b_in)\n",
        "      w_in = w_in - alpha * dj_dw\n",
        "      b_in = b_in - alpha * dj_db\n",
        "      loss = loss_function(X, y, w_in, b_in)\n",
        "      loss_hist.append(loss)\n",
        "      if i % 100 == 0:\n",
        "        print(f\"Loss at iteration {i}: {loss}\")\n",
        "    ### END CODE HERE ###\n",
        "\n",
        "    return w_in, b_in, loss_hist"
      ]
    },
    {
      "cell_type": "markdown",
      "metadata": {
        "id": "3yeLdzT9-5Wc"
      },
      "source": [
        "Now you have to intialize the model parameters ($w$ and $b$) and learning rate (```alpha```). The learning rate ```alpha``` has to be randomly initialized between 0.01 and 0.09. To randomly initialize the learning rate, you have to first set the last two digits of your roll number as the random seed using ```random.seed()``` function."
      ]
    },
    {
      "cell_type": "code",
      "execution_count": 25,
      "metadata": {
        "id": "MIBltyJh-Tjk"
      },
      "outputs": [],
      "source": [
        "## CODE REQUIRED ##\n",
        "\n",
        "## set the last two digits of your roll number as the random seed\n",
        "random_seed = None\n",
        "### START CODE HERE ###\n",
        "random_seed = 16\n",
        "### END CODE HERE ###\n",
        "np.random.seed(random_seed)\n",
        "\n",
        "def initialize_parameters():\n",
        "    \"\"\"\n",
        "    This function randomly initializes the model parameters (w and b) and the hyperparameter alpha\n",
        "    Initial w and b should be randomly sampled from a normal distribution with mean 0\n",
        "    alpha should be randomly initialized between 0.01 and 0.09 by using last two digits of your roll number as the random seed\n",
        "    Args:\n",
        "        None\n",
        "    Returns:\n",
        "        initial_w: Initial parameters of the linear regression model (excluding the bias) of the shape (1, number of features)\n",
        "        initial_b: Initial bias parameter (scalar) of the linear regression model\n",
        "        alpha: Learning rate\n",
        "    \"\"\"\n",
        "\n",
        "    initial_w = None\n",
        "    initial_b = None\n",
        "    alpha = None\n",
        "\n",
        "    ### START CODE HERE ###\n",
        "    initial_w = np.random.randn(1, X_train.shape[1])\n",
        "    initial_b = np.random.randn()\n",
        "    alpha = np.random.uniform(0.01, 0.09)\n",
        "    ### END CODE HERE ###\n",
        "\n",
        "    return initial_w,initial_b,alpha"
      ]
    },
    {
      "cell_type": "markdown",
      "metadata": {
        "id": "KT5CbQ8dZS_J"
      },
      "source": [
        "The following cell runs the batch gradient algorithm for\n",
        "```num_iterations=1000``` to train the logistic regression model. You can change the number of iterations to check any improvements in the performance"
      ]
    },
    {
      "cell_type": "code",
      "execution_count": 26,
      "metadata": {
        "id": "KFTZi7pkbOdp"
      },
      "outputs": [
        {
          "name": "stdout",
          "output_type": "stream",
          "text": [
            "Loss at iteration 0: 1.2201739192715513\n",
            "Loss at iteration 100: 0.5895560602009602\n",
            "Loss at iteration 200: 0.550419659043551\n",
            "Loss at iteration 300: 0.5174410694031877\n",
            "Loss at iteration 400: 0.48920073035117206\n",
            "Loss at iteration 500: 0.46484860042906145\n",
            "Loss at iteration 600: 0.44370019822750545\n",
            "Loss at iteration 700: 0.42520620450686514\n",
            "Loss at iteration 800: 0.4089255437366146\n",
            "Loss at iteration 900: 0.39450294287621984\n",
            "optimized parameter values w: [[-0.72789255 -2.97308007 -2.19017982  0.98549652 -0.46538299]]\n",
            "optimized parameter value b: 2.788482727343662\n"
          ]
        }
      ],
      "source": [
        "# initialize the parameters (w an b) randomly\n",
        "initial_w, initial_b, alpha = initialize_parameters()\n",
        "num_iterations = 1000\n",
        "\n",
        "w, b, loss_hist = batch_gradient_descent_logistic_regression(X_train ,y_train, initial_w, initial_b, alpha, num_iterations)\n",
        "print(\"optimized parameter values w:\", w)\n",
        "print(\"optimized parameter value b:\", b)"
      ]
    },
    {
      "cell_type": "markdown",
      "metadata": {
        "id": "pYP0-YUyY50x"
      },
      "source": [
        "### 2.6. Final Train and Test Accuracy\n",
        "After the logistic regression model is trained, we will predict the class labels for the training set and test set and we will compute the accuracy.\n",
        "\n",
        "Please complete the `predict` function to produce `1` or `0` predictions given a dataset and a learned parameter vector $w$ and $b$.\n",
        "- First you need to compute the prediction from the model $f(x^{(i)}) = g(w \\cdot x^{(i)})$ for every example\n",
        "\n",
        "- We interpret the output of the model ($f(x^{(i)})$) as the probability that $y^{(i)}=1$ given $x^{(i)}$ and parameterized by $w$.\n",
        "- Therefore, to get a final prediction ($y^{(i)}=0$ or $y^{(i)}=1$) from the logistic regression model, you can use the following heuristic -\n",
        "\n",
        "  if $f(x^{(i)}) >= 0.5$, predict $y^{(i)}=1$\n",
        "  \n",
        "  if $f(x^{(i)}) < 0.5$, predict $y^{(i)}=0$"
      ]
    },
    {
      "cell_type": "code",
      "execution_count": 27,
      "metadata": {
        "id": "mZDUV2iwbQ_R"
      },
      "outputs": [],
      "source": [
        "def predict(X, w, b):\n",
        "      \"\"\"\n",
        "      Predict whether the label is 0 or 1 using learned logistic regression parameters (w,b)\n",
        "\n",
        "      Args:\n",
        "        X: Input data of shape (number of sample, number of features)\n",
        "        w: Parameters of the logistic regression model (excluding the bias) of the shape (1, number of features)\n",
        "        b: Bias parameter of the logistic regression model\n",
        "\n",
        "      Returns:\n",
        "        p: Predictions for X using a threshold at 0.5\n",
        "      \"\"\"\n",
        "      m, n = X.shape\n",
        "      p = np.zeros(m)\n",
        "      ### START CODE HERE###\n",
        "      for i in range(m):\n",
        "        z = np.dot(w, X[i]) + b\n",
        "        f = sigmoid(z)\n",
        "        if f >= 0.5:\n",
        "          p[i] = 1\n",
        "      ### END CODE HERE ###\n",
        "      return p"
      ]
    },
    {
      "cell_type": "markdown",
      "metadata": {
        "id": "zsrATkIy2KVy"
      },
      "source": [
        "Now let's use this to compute the accuracy on the training and test datasets"
      ]
    },
    {
      "cell_type": "code",
      "execution_count": 28,
      "metadata": {
        "id": "UMmh6WdFbU9Y"
      },
      "outputs": [
        {
          "name": "stdout",
          "output_type": "stream",
          "text": [
            "Train Accuracy: 92.859643\n",
            "Test Accuracy: 92.654774\n"
          ]
        }
      ],
      "source": [
        "p_train = predict(X_train, w,b)\n",
        "print('Train Accuracy: %f'%(np.mean(p_train == y_train) * 100))\n",
        "p_test = predict(X_test, w,b)\n",
        "print('Test Accuracy: %f'%(np.mean(p_test == y_test) * 100))"
      ]
    },
    {
      "cell_type": "markdown",
      "metadata": {
        "id": "B0VqjFy9ZK7D"
      },
      "source": [
        "Now, we plot the loss function values for every iteration."
      ]
    },
    {
      "cell_type": "code",
      "execution_count": 29,
      "metadata": {
        "id": "fkmP3XHMTW74"
      },
      "outputs": [
        {
          "data": {
            "image/png": "[encoded data removed]",
            "text/plain": [
              "<Figure size 640x480 with 1 Axes>"
            ]
          },
          "metadata": {},
          "output_type": "display_data"
        }
      ],
      "source": [
        "# PLotting the loss values for every training iterations\n",
        "\n",
        "loss_plot = [loss_hist[i] for i in range(len(loss_hist))]\n",
        "plt.xlabel(\"Iterations\")\n",
        "plt.ylabel(\"Loss function\")\n",
        "plt.plot(loss_plot)\n",
        "plt.show()"
      ]
    },
    {
      "cell_type": "markdown",
      "metadata": {
        "id": "JgKAU9RBEUlL"
      },
      "source": [
        "### 2.7 Experimenting with different values of the Hyperparemeters\n",
        "\n",
        "Previously, we randomly sampled the learning rate and the number of features to train the model. Now, you have to manually choose the number of features and the learning rate. Then, you have to train the model again on the manually choosen hyperparameters (number of features and learning rate). In the next cell, you have to manually choose the hyperparameters and write the code to train the model.\n",
        "\n",
        "After the model is trained, you have to compare the performance of the model with random chosen hyperparameters and the model **with** manually chosen hyperparameters."
      ]
    },
    {
      "cell_type": "code",
      "execution_count": 30,
      "metadata": {
        "id": "xMcc3cuvIbD_"
      },
      "outputs": [
        {
          "name": "stdout",
          "output_type": "stream",
          "text": [
            "Loss at iteration 0: 1.1826305268704127\n",
            "Loss at iteration 100: 0.5503599163765673\n",
            "Loss at iteration 200: 0.4968930377152932\n",
            "Loss at iteration 300: 0.4563665997733251\n",
            "Loss at iteration 400: 0.42476348662163554\n",
            "Loss at iteration 500: 0.3994944878077016\n",
            "Loss at iteration 600: 0.378851197523721\n",
            "Loss at iteration 700: 0.36167505021752644\n",
            "Loss at iteration 800: 0.347158590002251\n",
            "Loss at iteration 900: 0.3347244942015276\n",
            "Loss at iteration 1000: 0.323950267988769\n",
            "Loss at iteration 1100: 0.3145201852645055\n",
            "Loss at iteration 1200: 0.30619384460937216\n",
            "Loss at iteration 1300: 0.29878510217717946\n",
            "Loss at iteration 1400: 0.29214764144976807\n",
            "Loss at iteration 1500: 0.28616488548698166\n",
            "Loss at iteration 1600: 0.2807428118044113\n",
            "Loss at iteration 1700: 0.27580474632562524\n",
            "Loss at iteration 1800: 0.2712875317008739\n",
            "Loss at iteration 1900: 0.2671386663536366\n",
            "Loss at iteration 2000: 0.26331413995646075\n",
            "Loss at iteration 2100: 0.2597767758036538\n",
            "Loss at iteration 2200: 0.2564949470801308\n",
            "Loss at iteration 2300: 0.2534415723471045\n",
            "Loss at iteration 2400: 0.25059332194044903\n",
            "Loss at iteration 2500: 0.24792998539003883\n",
            "Loss at iteration 2600: 0.24543396299358028\n",
            "Loss at iteration 2700: 0.2430898540075117\n",
            "Loss at iteration 2800: 0.2408841206772247\n",
            "Loss at iteration 2900: 0.2388048122803205\n",
            "Loss at iteration 3000: 0.23684133702072738\n",
            "Loss at iteration 3100: 0.23498427234909353\n",
            "Loss at iteration 3200: 0.23322520634874452\n",
            "Loss at iteration 3300: 0.2315566043957516\n",
            "Loss at iteration 3400: 0.22997169650444493\n",
            "Loss at iteration 3500: 0.2284643816986295\n",
            "Loss at iteration 3600: 0.22702914647134648\n",
            "Loss at iteration 3700: 0.22566099496194392\n",
            "Loss at iteration 3800: 0.22435538892531307\n",
            "Loss at iteration 3900: 0.22310819592194972\n",
            "Loss at iteration 4000: 0.22191564443974726\n",
            "Loss at iteration 4100: 0.22077428488484846\n",
            "Loss at iteration 4200: 0.21968095556148293\n",
            "Loss at iteration 4300: 0.21863275290872142\n",
            "Loss at iteration 4400: 0.21762700538262883\n",
            "Loss at iteration 4500: 0.21666125047093152\n",
            "Loss at iteration 4600: 0.21573321440838328\n",
            "Loss at iteration 4700: 0.21484079422792351\n",
            "Loss at iteration 4800: 0.2139820418381675\n",
            "Loss at iteration 4900: 0.21315514986390088\n",
            "Loss at iteration 5000: 0.21235843902476859\n",
            "Loss at iteration 5100: 0.21159034685963518\n",
            "Loss at iteration 5200: 0.21084941763124\n",
            "Loss at iteration 5300: 0.21013429326867875\n",
            "Loss at iteration 5400: 0.20944370522463582\n",
            "Loss at iteration 5500: 0.20877646714075287\n",
            "Loss at iteration 5600: 0.20813146822854417\n",
            "Loss at iteration 5700: 0.2075076672852414\n",
            "Loss at iteration 5800: 0.20690408727421042\n",
            "Loss at iteration 5900: 0.20631981040838648\n",
            "Loss at iteration 6000: 0.20575397368276035\n",
            "Loss at iteration 6100: 0.20520576480848998\n",
            "Loss at iteration 6200: 0.204674418506879\n",
            "Loss at iteration 6300: 0.20415921312637034\n",
            "Loss at iteration 6400: 0.20365946754997538\n",
            "Loss at iteration 6500: 0.20317453836427699\n",
            "Loss at iteration 6600: 0.2027038172643895\n",
            "Loss at iteration 6700: 0.20224672867210308\n",
            "Loss at iteration 6800: 0.2018027275469246\n",
            "Loss at iteration 6900: 0.20137129737191728\n",
            "Loss at iteration 7000: 0.20095194829816412\n",
            "Loss at iteration 7100: 0.2005442154333763\n",
            "Loss at iteration 7200: 0.200147657261666\n",
            "Loss at iteration 7300: 0.19976185418282866\n",
            "Loss at iteration 7400: 0.1993864071606532\n",
            "Loss at iteration 7500: 0.1990209364708227\n",
            "Loss at iteration 7600: 0.19866508053989376\n",
            "Loss at iteration 7700: 0.19831849486766795\n",
            "Loss at iteration 7800: 0.1979808510260067\n",
            "Loss at iteration 7900: 0.1976518357277958\n",
            "Loss at iteration 8000: 0.19733114996035542\n",
            "Loss at iteration 8100: 0.19701850817811795\n",
            "Loss at iteration 8200: 0.19671363754986795\n",
            "Loss at iteration 8300: 0.1964162772562636\n",
            "Loss at iteration 8400: 0.1961261778337389\n",
            "Loss at iteration 8500: 0.19584310056123183\n",
            "Loss at iteration 8600: 0.19556681688649166\n",
            "Loss at iteration 8700: 0.19529710788899837\n",
            "Loss at iteration 8800: 0.1950337637767811\n",
            "Loss at iteration 8900: 0.1947765834146498\n",
            "Loss at iteration 9000: 0.19452537388156166\n",
            "Loss at iteration 9100: 0.19427995005503268\n",
            "Loss at iteration 9200: 0.19404013422067437\n",
            "Loss at iteration 9300: 0.19380575570508984\n",
            "Loss at iteration 9400: 0.19357665053050677\n",
            "Loss at iteration 9500: 0.19335266108965043\n",
            "Loss at iteration 9600: 0.19313363583948004\n",
            "Loss at iteration 9700: 0.192919429012514\n",
            "Loss at iteration 9800: 0.192709900344573\n",
            "Loss at iteration 9900: 0.19250491481785387\n",
            "optimized parameter values w: [[-3.39970934 -6.58603942 -6.93568618  4.16085697 -1.30354704 -4.41804703\n",
            "   0.50420001]]\n",
            "optimized parameter value b: 8.890992543116255\n",
            "Train Accuracy: 92.875891\n",
            "Test Accuracy: 92.388451\n"
          ]
        },
        {
          "data": {
            "image/png": "[encoded data removed]",
            "text/plain": [
              "<Figure size 640x480 with 1 Axes>"
            ]
          },
          "metadata": {},
          "output_type": "display_data"
        }
      ],
      "source": [
        "## CODE REQUIRED ##\n",
        "\n",
        "\"\"\"\n",
        "Manually choose the hyperparameters (learning rate and number of features) and train the model.\n",
        "Then compare the performance with random chosen hyperparameters and manually chosen hyperparameters.\n",
        "\"\"\"\n",
        "\n",
        "### START CODE HERE ###\n",
        "# here i want to try to take all the available parameters\n",
        "df = pd.read_csv(filepath)\n",
        "X = df.iloc[:, :-1].values\n",
        "y = df.iloc[:, -1].values\n",
        "unique_classes = np.unique(y)\n",
        "y = np.where(y == unique_classes[0], 0, 1)\n",
        "\n",
        "# normalizing the data\n",
        "X = min_max_scaler(X)\n",
        "X_train, X_test, y_train, y_test = train_test_split(X, y, test_size=0.3, random_state=42)\n",
        "\n",
        "# setting random seed 42\n",
        "np.random.seed(42)\n",
        "\n",
        "# initialising parameters\n",
        "w_initial = np.random.randn(1, X_train.shape[1])\n",
        "b_initial = np.random.randn()\n",
        "alpha = 0.1\n",
        "\n",
        "# number of iterations\n",
        "num_iterations = 10000\n",
        "\n",
        "# training the model\n",
        "w, b, loss_hist = batch_gradient_descent_logistic_regression(X_train, y_train, w_initial, b_initial, alpha, num_iterations)\n",
        "print(\"optimized parameter values w:\", w)\n",
        "print(\"optimized parameter value b:\", b)\n",
        "\n",
        "# printing the accuracy of the model on training and test sets\n",
        "p_train = predict(X_train, w,b)\n",
        "print('Train Accuracy: %f'%(np.mean(p_train == y_train) * 100))\n",
        "p_test = predict(X_test, w,b)\n",
        "print('Test Accuracy: %f'%(np.mean(p_test == y_test) * 100))\n",
        "\n",
        "# Plotting the loss values for every training iterations\n",
        "loss_plot = [loss_hist[i] for i in range(len(loss_hist))]\n",
        "plt.xlabel(\"Iterations\")\n",
        "plt.ylabel(\"Loss function\")\n",
        "plt.plot(loss_plot)\n",
        "plt.show()\n",
        "### END CODE HERE ###"
      ]
    }
  ],
  "metadata": {
    "colab": {
      "provenance": []
    },
    "kernelspec": {
      "display_name": "Python 3 (ipykernel)",
      "language": "python",
      "name": "python3"
    },
    "language_info": {
      "codemirror_mode": {
        "name": "ipython",
        "version": 3
      },
      "file_extension": ".py",
      "mimetype": "text/x-python",
      "name": "python",
      "nbconvert_exporter": "python",
      "pygments_lexer": "ipython3",
      "version": "3.12.4"
    }
  },
  "nbformat": 4,
  "nbformat_minor": 0
}
